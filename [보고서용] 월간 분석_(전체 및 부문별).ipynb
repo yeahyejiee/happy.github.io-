{
 "cells": [
  {
   "attachments": {},
   "cell_type": "markdown",
   "metadata": {},
   "source": [
    "## 월간 보고용 : 주문수 분석"
   ]
  },
  {
   "cell_type": "code",
   "execution_count": 1,
   "metadata": {},
   "outputs": [],
   "source": [
    "import pandas as pd\n",
    "import re\n",
    "from mlxtend.preprocessing import TransactionEncoder\n",
    "from mlxtend.frequent_patterns import apriori\n",
    "from mlxtend.frequent_patterns import apriori, association_rules\n",
    "import datetime as dt\n",
    "from dateutil.relativedelta import relativedelta\n",
    "import os\n",
    "from collections import Counter  "
   ]
  },
  {
   "attachments": {},
   "cell_type": "markdown",
   "metadata": {},
   "source": [
    "### 0. 기본설정 : 저장 위치 및 함수"
   ]
  },
  {
   "cell_type": "code",
   "execution_count": 2,
   "metadata": {},
   "outputs": [
    {
     "name": "stdout",
     "output_type": "stream",
     "text": [
      "C:\\GMG_R&D\\3. 장바구니 분석\\1. 한총\n"
     ]
    }
   ],
   "source": [
    "input_path = 'C:/GMG_R&D/3. 장바구니 분석/1. 한총' \n",
    "os.chdir(input_path)\n",
    "path=os.getcwd()\n",
    "print(path)\n",
    "\n",
    "x = dt.datetime.now()\n",
    "file_name=f'월간보고서_{x.year}년_{(x - relativedelta(months=1)).month}월/월간_{x.month}월 {x.day}일'\n",
    "\n",
    "if not os.path.exists(file_name):\n",
    "    os.makedirs(file_name) "
   ]
  },
  {
   "cell_type": "code",
   "execution_count": 3,
   "metadata": {},
   "outputs": [],
   "source": [
    "#########  필요한 함수 정의 #########\n",
    "#1. 데이터셋 만들기\n",
    "def dataset_make(dic_category, month_df):\n",
    "    dataset = []   \n",
    "    for i in range(len(month_df)) :\n",
    "        sku = month_df['Model Code (v41)'][i]\n",
    "        revised = sku.split(\",\")\n",
    "        code = []\n",
    "        for j in range(len(revised)) :\n",
    "            code.append(dic_category[revised[j]])   \n",
    "        for k in range(month_df[month_df.columns[1]][i]) :  \n",
    "            dataset.append(code) \n",
    "    return dataset\n",
    "\n",
    "#2. 주문건수\n",
    "def order_1depth(new_rex, dataset):\n",
    "    per_order={}\n",
    "    for PRODU in new_rex['Category1D']:\n",
    "        df_count=[s for s in dataset if any(PRODU in l for l in s)] \n",
    "        per_order[PRODU]=len(df_count)\n",
    "\n",
    "    daf=pd.DataFrame.from_dict(per_order, orient=\"index\").reset_index()\n",
    "    daf_1=daf.rename({'index':'Category1D',0:\"count\"},axis=1)\n",
    "    return daf_1\n",
    "\n",
    "#3. 제품건수\n",
    "def product_2depth(new_rex, dataset):\n",
    "    per_product={}\n",
    "\n",
    "    for PRODU in new_rex['Category2D']:\n",
    "        df_count=[s for s in dataset for i in s if PRODU in i]\n",
    "        per_product[PRODU]=len(df_count)\n",
    "\n",
    "    daf_product=pd.DataFrame.from_dict(per_product, orient=\"index\").reset_index()\n",
    "    final=pd.merge(new_rex[[\"Category1D\",\"Category2D\"]], daf_product, left_on=\"Category2D\", right_on='index')\n",
    "    final=final.drop(columns=[\"index\"])\n",
    "    final=final.rename({0:\"count\"},axis=1)\n",
    "    mon_final=final.sort_values([\"Category1D\",\"count\"],ascending=False)\n",
    "    return mon_final\n",
    "\n",
    "\n",
    "def frozen_convert(sets) : \n",
    "    return [list(sets)]\n",
    "\n",
    "\n",
    "#4. 장바구니 분석\n",
    "def my_basket(dataset):\n",
    "    te = TransactionEncoder()\n",
    "    te_ary = te.fit(dataset).transform(dataset) #True / False\n",
    "    df2 = pd.DataFrame(te_ary, columns=te.columns_)\n",
    "    itemsets_data = apriori(df2, min_support=0.00001, use_colnames=True).sort_values('support', ascending=False).reset_index(drop=True)\n",
    "    rules = association_rules(itemsets_data, metric='lift', min_threshold=1).sort_values('lift',ascending=False).reset_index(drop=True)\n",
    "    rules['count']=(rules['support']*len(dataset)).astype(int)\n",
    "    basket = rules[rules.apply(lambda x:True if len(x.antecedents) == int(1) else False, axis=1) & rules.apply(lambda x:True if len(x.consequents) == int(1) else False, axis=1)]\n",
    "    basket = basket.sort_values('confidence', ascending=False)\n",
    "    basket[['antecedents','consequents']] =basket[['antecedents','consequents']].applymap(lambda x: frozen_convert(x))\n",
    "    basket['antecedents']=basket['antecedents'].astype(str).apply(lambda x: x.replace('[[','['))\n",
    "    basket['antecedents']=basket['antecedents'].apply(lambda x: x.replace(']]',']'))\n",
    "    basket['consequents']=basket['consequents'].astype(str).apply(lambda x: x.replace('[[','['))\n",
    "    basket['consequents']=basket['consequents'].apply(lambda x: x.replace(']]',']'))\n",
    "    basket=basket[['antecedents','consequents','count','confidence','support','lift','conviction']]\n",
    "    return basket"
   ]
  },
  {
   "attachments": {},
   "cell_type": "markdown",
   "metadata": {},
   "source": [
    "### 1. 카테고리 가져오기"
   ]
  },
  {
   "cell_type": "code",
   "execution_count": 4,
   "metadata": {},
   "outputs": [
    {
     "name": "stdout",
     "output_type": "stream",
     "text": [
      "<class 'pandas.core.frame.DataFrame'>\n",
      "RangeIndex: 41 entries, 0 to 40\n",
      "Data columns (total 4 columns):\n",
      " #   Column            Non-Null Count  Dtype \n",
      "---  ------            --------------  ----- \n",
      " 0   depth1            41 non-null     object\n",
      " 1   Category1D        41 non-null     object\n",
      " 2   Category2D        41 non-null     object\n",
      " 3   Category2D_Value  41 non-null     object\n",
      "dtypes: object(4)\n",
      "memory usage: 1.4+ KB\n"
     ]
    }
   ],
   "source": [
    "#카테고리 가져오기\n",
    "rex= pd.read_clipboard(sep='\\t')\n",
    "rex=rex.astype(str)\n",
    "rex.info()"
   ]
  },
  {
   "attachments": {},
   "cell_type": "markdown",
   "metadata": {},
   "source": [
    "### 2. 한총 데이터 (월별 데이터)"
   ]
  },
  {
   "cell_type": "code",
   "execution_count": 5,
   "metadata": {},
   "outputs": [
    {
     "name": "stdout",
     "output_type": "stream",
     "text": [
      "<class 'pandas.core.frame.DataFrame'>\n",
      "RangeIndex: 6507 entries, 0 to 6506\n",
      "Data columns (total 2 columns):\n",
      " #   Column                  Non-Null Count  Dtype \n",
      "---  ------                  --------------  ----- \n",
      " 0   Model Code (v41)        6507 non-null   object\n",
      " 1   Order (purchase event)  6507 non-null   int64 \n",
      "dtypes: int64(1), object(1)\n",
      "memory usage: 101.8+ KB\n"
     ]
    }
   ],
   "source": [
    "df= pd.read_clipboard(sep='\\t')\n",
    "df=df[1:]\n",
    "df=df.reset_index().rename(columns={\"index\": \"Model Code (v41)\"})\n",
    "df.info()"
   ]
  },
  {
   "cell_type": "code",
   "execution_count": 10,
   "metadata": {},
   "outputs": [
    {
     "data": {
      "text/html": [
       "<div>\n",
       "<style scoped>\n",
       "    .dataframe tbody tr th:only-of-type {\n",
       "        vertical-align: middle;\n",
       "    }\n",
       "\n",
       "    .dataframe tbody tr th {\n",
       "        vertical-align: top;\n",
       "    }\n",
       "\n",
       "    .dataframe thead th {\n",
       "        text-align: right;\n",
       "    }\n",
       "</style>\n",
       "<table border=\"1\" class=\"dataframe\">\n",
       "  <thead>\n",
       "    <tr style=\"text-align: right;\">\n",
       "      <th></th>\n",
       "      <th>Model Code (v41)</th>\n",
       "      <th>Order (purchase event)</th>\n",
       "    </tr>\n",
       "  </thead>\n",
       "  <tbody>\n",
       "    <tr>\n",
       "      <th>0</th>\n",
       "      <td>RF85B90023Y</td>\n",
       "      <td>1242</td>\n",
       "    </tr>\n",
       "    <tr>\n",
       "      <th>1</th>\n",
       "      <td>VS20B957D5G</td>\n",
       "      <td>980</td>\n",
       "    </tr>\n",
       "    <tr>\n",
       "      <th>2</th>\n",
       "      <td>VCA-ADB95A</td>\n",
       "      <td>685</td>\n",
       "    </tr>\n",
       "    <tr>\n",
       "      <th>3</th>\n",
       "      <td>HAF-HIN</td>\n",
       "      <td>667</td>\n",
       "    </tr>\n",
       "    <tr>\n",
       "      <th>4</th>\n",
       "      <td>VCA-SBT90/VT</td>\n",
       "      <td>658</td>\n",
       "    </tr>\n",
       "    <tr>\n",
       "      <th>...</th>\n",
       "      <td>...</td>\n",
       "      <td>...</td>\n",
       "    </tr>\n",
       "    <tr>\n",
       "      <th>5486</th>\n",
       "      <td>RF85B90023Y,RQ48B94M1AP01</td>\n",
       "      <td>1</td>\n",
       "    </tr>\n",
       "    <tr>\n",
       "      <th>5487</th>\n",
       "      <td>AP145BSPPHH7SY,AP110BSPPHH8SY</td>\n",
       "      <td>1</td>\n",
       "    </tr>\n",
       "    <tr>\n",
       "      <th>5488</th>\n",
       "      <td>SM-R870NZSAKOO,SM-R180NZNAKOO</td>\n",
       "      <td>1</td>\n",
       "    </tr>\n",
       "    <tr>\n",
       "      <th>5489</th>\n",
       "      <td>AX053B810HND,HKSOUNDSTICK4WHTAS</td>\n",
       "      <td>1</td>\n",
       "    </tr>\n",
       "    <tr>\n",
       "      <th>5490</th>\n",
       "      <td>sam0017,sam0019,sam0020</td>\n",
       "      <td>1</td>\n",
       "    </tr>\n",
       "  </tbody>\n",
       "</table>\n",
       "<p>5491 rows × 2 columns</p>\n",
       "</div>"
      ],
      "text/plain": [
       "                     Model Code (v41)  Order (purchase event)\n",
       "0                         RF85B90023Y                    1242\n",
       "1                         VS20B957D5G                     980\n",
       "2                          VCA-ADB95A                     685\n",
       "3                             HAF-HIN                     667\n",
       "4                        VCA-SBT90/VT                     658\n",
       "...                               ...                     ...\n",
       "5486        RF85B90023Y,RQ48B94M1AP01                       1\n",
       "5487    AP145BSPPHH7SY,AP110BSPPHH8SY                       1\n",
       "5488    SM-R870NZSAKOO,SM-R180NZNAKOO                       1\n",
       "5489  AX053B810HND,HKSOUNDSTICK4WHTAS                       1\n",
       "5490          sam0017,sam0019,sam0020                       1\n",
       "\n",
       "[5491 rows x 2 columns]"
      ]
     },
     "execution_count": 10,
     "metadata": {},
     "output_type": "execute_result"
    }
   ],
   "source": [
    "df"
   ]
  },
  {
   "cell_type": "code",
   "execution_count": 6,
   "metadata": {},
   "outputs": [],
   "source": [
    "# 동시구매 \n",
    "#month_df=df[df['Model Code (v41)'].str.contains(',')]\n",
    "#month_df=month_df[month_df[month_df.columns[1]]!=0]  \n",
    "#month_df=month_df.reset_index(drop=True)\n",
    "month_df=df\n",
    "#전체 SKU 하나의 리스트로\n",
    "a = month_df['Model Code (v41)'].tolist()\n",
    "b = ','.join(a) #리스트 문자열로\n",
    "c = b.split(',') #문자열 개별 문자로 리스트화 \n",
    "model = list(set(c)) #중복 제거"
   ]
  },
  {
   "attachments": {},
   "cell_type": "markdown",
   "metadata": {},
   "source": [
    "### 3. 동시구매 :부문별 통계"
   ]
  },
  {
   "cell_type": "code",
   "execution_count": 9,
   "metadata": {},
   "outputs": [
    {
     "name": "stdout",
     "output_type": "stream",
     "text": [
      "<<<MX+MX>>\n",
      "동시구매 order 수 6236\n",
      "동시구매 비율 10.895240757565169\n",
      "MX 또는 CE 분석으로 진행\n",
      "MX+MX_기타 제거후 주문건수:  1602\n",
      "-------------------\n",
      "<<<CE+CE>>\n",
      "동시구매 order 수 6236\n",
      "동시구매 비율 10.895240757565169\n",
      "MX 또는 CE 분석으로 진행\n",
      "CE+CE_기타 제거후 주문건수:  3514\n",
      "-------------------\n",
      "<<<MX+CE>>\n",
      "동시구매 order 수 6236\n",
      "동시구매 비율 10.895240757565169\n",
      "MX+CE 분석으로 진행\n",
      "MX+CE_기타 제거후 주문건수:  103\n",
      "-------------------\n"
     ]
    }
   ],
   "source": [
    "d_mod=[]\n",
    "for cate_type1, cate_type2 in zip([\"MX\",\"CE\",\"MX\"],[\"MX\",\"CE\",\"CE\"]):\n",
    "    print(f'<<<{cate_type1}+{cate_type2}>>')\n",
    "    new_rex=rex[(rex['depth1']==cate_type1)|(rex['depth1']==cate_type2)]\n",
    "    new_rex=new_rex.reset_index()\n",
    "\n",
    "    ## 1. 카테고리 생성 : 부문_1depth 카테고리_2depth 카테고리\n",
    "    dic_category = {}\n",
    "    for m in model :\n",
    "        flag = 1\n",
    "        for i in range(len(new_rex)):\n",
    "            r = re.compile(new_rex.Category2D_Value[i])\n",
    "            if r.search(m):\n",
    "                dic_category[m] = new_rex.depth1[i]+'_'+ new_rex.Category1D[i] +'_'+ new_rex.Category2D[i]\n",
    "                flag = 0\n",
    "                break\n",
    "        if flag :\n",
    "            dic_category[m] = '기타'\n",
    "    \n",
    "    ## 2. 데이터셋 만들기 : 부문별\n",
    "    dataset_type=dataset_make(dic_category, month_df)\n",
    "    print('동시구매 order 수', len(dataset_type))\n",
    "    print('동시구매 비율', (len(dataset_type)/df[df.columns[1]].sum()*100))\n",
    "\n",
    "    ## 3. 부문별 함께 구매\n",
    "    select_1=[s for s in dataset_type if any(cate_type1 in l for l in s)]\n",
    "    result=[s for s in select_1 if any(cate_type2 in l for l in s)]\n",
    "\n",
    "    ## 4. 기타 제거 : 해당하는 부문 분석 외에는 기타로 나오기 때문에 기타만 제거\n",
    "    #1) 행제거\n",
    "    if cate_type1==cate_type2:\n",
    "        print('MX 또는 CE 분석으로 진행')\n",
    "        ho = []\n",
    "        rm_set = {'기타'} \n",
    "        for s in result:\n",
    "            if all(p not in rm_set for p in s):\n",
    "                ho.append(s)\n",
    "\n",
    "    #2) 시각적 제거\n",
    "    if cate_type1!=cate_type2:\n",
    "        print('MX+CE 분석으로 진행')\n",
    "        ho = []\n",
    "        rm_set = {'기타'} \n",
    "        for s in result:\n",
    "            arr_new = [i for i in s if i not in rm_set]\n",
    "            ho.append(arr_new)\n",
    "\n",
    "    dataset_type = ho\n",
    "    print(f'{cate_type1}+{cate_type2}_기타 제거후 주문건수: ',len(dataset_type))\n",
    "    d_mod.append(len(dataset_type))\n",
    "    print('-------------------')\n",
    "\n",
    "    ## 5-1. 분석 :부문별 1depth 주문건수 \n",
    "    order_1depth(new_rex, dataset_type).sort_values([\"count\"],ascending=False).to_csv(f'{path}/{file_name}/주문 건수_1depth_{cate_type1}+{cate_type2}.csv',index=False, encoding='utf-8-sig')\n",
    "\n",
    "    ## 5-2. 분석 : 부문별 2depth 제품건수\n",
    "    product_2depth(new_rex, dataset_type).to_csv(f'{path}/{file_name}/제품 건수_2depth_{cate_type1}+{cate_type2}.csv',index=False, encoding='utf-8-sig')\n",
    "\n",
    "    ######################### 참고용  ########################\n",
    "    # 6. 조합 결과 \n",
    "    # count=Counter([tuple(sorted(i)) for i in sorted([tuple(set(item)) for item in  dataset_type])]) \n",
    "    # da=sorted(count.items(), key=lambda i: i[1], reverse=True)\n",
    "    # #조합별 카운트 데이터 저장\n",
    "    # pd.DataFrame(da).to_csv(f'{path}/{file_name}/조합결과_{cate_type1}+{cate_type2}.csv', encoding='utf-8-sig')\n",
    "\n",
    "    # 7. 장바구니 분석\n",
    "    #my_basket(dataset_type).to_csv(f'{path}/{file_name}/장바구니 분석_{cate_type1}+{cate_type2}.csv', encoding = 'utf-8-sig')\n"
   ]
  },
  {
   "cell_type": "code",
   "execution_count": 10,
   "metadata": {},
   "outputs": [
    {
     "data": {
      "text/html": [
       "<div>\n",
       "<style scoped>\n",
       "    .dataframe tbody tr th:only-of-type {\n",
       "        vertical-align: middle;\n",
       "    }\n",
       "\n",
       "    .dataframe tbody tr th {\n",
       "        vertical-align: top;\n",
       "    }\n",
       "\n",
       "    .dataframe thead th {\n",
       "        text-align: right;\n",
       "    }\n",
       "</style>\n",
       "<table border=\"1\" class=\"dataframe\">\n",
       "  <thead>\n",
       "    <tr style=\"text-align: right;\">\n",
       "      <th></th>\n",
       "      <th>CE+MX</th>\n",
       "      <th>CE+CE</th>\n",
       "      <th>MX+MX</th>\n",
       "      <th>공동구매 비율</th>\n",
       "      <th>전체 주문수</th>\n",
       "      <th>공동구매(2개이상)</th>\n",
       "      <th>기타</th>\n",
       "    </tr>\n",
       "  </thead>\n",
       "  <tbody>\n",
       "    <tr>\n",
       "      <th>0</th>\n",
       "      <td>103</td>\n",
       "      <td>3514</td>\n",
       "      <td>1602</td>\n",
       "      <td>0.108952</td>\n",
       "      <td>57236</td>\n",
       "      <td>6236</td>\n",
       "      <td>1017</td>\n",
       "    </tr>\n",
       "  </tbody>\n",
       "</table>\n",
       "</div>"
      ],
      "text/plain": [
       "   CE+MX  CE+CE  MX+MX   공동구매 비율  전체 주문수  공동구매(2개이상)    기타\n",
       "0    103   3514   1602  0.108952   57236        6236  1017"
      ]
     },
     "execution_count": 10,
     "metadata": {},
     "output_type": "execute_result"
    }
   ],
   "source": [
    "###### 부문별 통계량 ###### \n",
    "d_mod_new_=[]\n",
    "for y  in df.columns[1:]:\n",
    "    all_or=df[y].sum() #전체\n",
    "    im_order=d_mod[0] \n",
    "    ce_order=d_mod[1]\n",
    "    ce_im_order=d_mod[2]\n",
    "    two_sum=month_df[y].sum()  #공동구매\n",
    "    ratio_two=two_sum/df[y].sum()  #공동구매 비율\n",
    "    etc= two_sum -(ce_im_order + ce_order + im_order) #기타\n",
    "    d_mod_new_1=[]\n",
    "    for i in [ce_im_order,  ce_order, im_order, ratio_two, all_or, two_sum, etc]:\n",
    "        d_mod_new_1.append(i)\n",
    "    d_mod_new_.append(d_mod_new_1)\n",
    "\n",
    "    \n",
    "pd.DataFrame(d_mod_new_,columns=['CE+MX','CE+CE','MX+MX','공동구매 비율',\"전체 주문수\",'공동구매(2개이상)','기타'],index=[num for num in df.columns[1:]]).to_excel(f'{path}/{file_name}/[주문수]부문별 통계.xlsx')\n",
    "pd.DataFrame(d_mod_new_,columns=['CE+MX','CE+CE','MX+MX','공동구매 비율',\"전체 주문수\",'공동구매(2개이상)','기타'])\n"
   ]
  },
  {
   "attachments": {},
   "cell_type": "markdown",
   "metadata": {},
   "source": [
    "### 4-1. 2depth 장바구니 분석"
   ]
  },
  {
   "cell_type": "code",
   "execution_count": 7,
   "metadata": {},
   "outputs": [],
   "source": [
    "## 1. 카테고리 생성 : 부문별_카테고리 1depth_카테고리 2depth\n",
    "dic_category_2depth = {}\n",
    "for m in model :\n",
    "    flag = 1\n",
    "    for i in range(len(rex)):\n",
    "        r = re.compile(rex.Category2D_Value[i])\n",
    "        if r.search(m):\n",
    "            dic_category_2depth[m] = rex.depth1[i]+'_'+rex.Category1D[i] +'_'+ rex.Category2D[i]  \n",
    "            flag = 0\n",
    "            break\n",
    "    if flag :\n",
    "        dic_category_2depth[m] = '기타'\n",
    "\n",
    "## 2. 데이터셋\n",
    "dataset_2depth=dataset_make(dic_category_2depth, month_df)\n",
    "\n",
    "## 3. 기타: 시각적 제거 -> 모든 카테고리를 다 불러오므로\n",
    "# ho = []\n",
    "# rm_set = {'nan','기타'}\n",
    "# for s in dataset_2depth:\n",
    "#     arr_new = [i for i in s if i.split('_')[0] not in rm_set]\n",
    "#     ho.append(arr_new)\n",
    "# dataset_2depth=ho\n",
    "\n",
    "## 4-1. 분석 : 1depth 주문건수\n",
    "order_1depth(rex, dataset_2depth).sort_values([\"count\"]).to_csv(f'{path}/{file_name}/주문 건수_2depth_전체.csv',index=False, encoding='utf-8-sig')\n",
    "\n",
    "## 4-2. 분석 : 2depth 제품건수\n",
    "product_2depth(rex, dataset_2depth).to_csv(f'{path}/{file_name}/제품건수_2depth_전체.csv',index=False, encoding='utf-8-sig')\n",
    "\n",
    "## 4-3. 분석 : 장바구니 분석\n",
    "my_basket(dataset_2depth).to_excel(f'{path}/{file_name}/[월간보고]동시구매2depth_장바구니 분석.xlsx',index=False)\n",
    "\n",
    "# 5. 조합 결과 : 유니크\n",
    "count_unique=Counter([tuple(sorted(i)) for i in sorted([tuple(set(item)) for item in  dataset_2depth])]) \n",
    "da_unique=sorted(count_unique.items(), key=lambda i: i[1], reverse=True)\n",
    "\n",
    "pd.DataFrame(da_unique).to_csv(f'{path}/{file_name}/조합결과_unique.csv', encoding='utf-8-sig')\n"
   ]
  },
  {
   "attachments": {},
   "cell_type": "markdown",
   "metadata": {},
   "source": [
    "### 4-2 액세서리 시각적 제거후, 2개이상의 주문리스트만 장바구니 분석"
   ]
  },
  {
   "cell_type": "code",
   "execution_count": 12,
   "metadata": {},
   "outputs": [],
   "source": [
    "\n",
    "## 1. 기타: 시각적 제거\n",
    "only_product = []\n",
    "pro_type = {'액세서리'}\n",
    "for s in dataset_2depth:\n",
    "    prd_new = [i for i in s if i[-4:] not in pro_type]\n",
    "    only_product.append(prd_new)\n",
    "\n",
    "final_only_df=list(filter(lambda x: len(x)>=2, only_product)) \n",
    "\n",
    "## 2. 분석 : 장바구니 분석\n",
    "my_basket(final_only_df).to_excel(f'{path}/{file_name}/[액세서리제거]2depth_장바구니 분석.xlsx',index=False)"
   ]
  },
  {
   "cell_type": "code",
   "execution_count": 13,
   "metadata": {},
   "outputs": [
    {
     "data": {
      "text/plain": [
       "2201"
      ]
     },
     "execution_count": 13,
     "metadata": {},
     "output_type": "execute_result"
    }
   ],
   "source": [
    "len(final_only_df)"
   ]
  },
  {
   "attachments": {},
   "cell_type": "markdown",
   "metadata": {},
   "source": [
    "### 5. 1depth 조합 장바구니 분석"
   ]
  },
  {
   "cell_type": "code",
   "execution_count": 66,
   "metadata": {},
   "outputs": [],
   "source": [
    "## 1. 카테고리 생성 : 카테고리 1depth\n",
    "dic_category_1depth = {}\n",
    "for m in model :\n",
    "    flag = 1\n",
    "    for i in range(len(rex)):\n",
    "        r = re.compile(rex.Category2D_Value[i])\n",
    "        if r.search(m):\n",
    "            dic_category_1depth[m] = rex.Category1D[i]\n",
    "            flag = 0\n",
    "            break\n",
    "    if flag :\n",
    "        dic_category_1depth[m] = '기타'\n",
    "\n",
    "## 2. 데이터셋 \n",
    "dataset_1depth=dataset_make(dic_category_1depth, month_df)\n",
    "\n",
    "## 3.기타: 시각적 제외\n",
    "ho = []\n",
    "rm_set = {'nan','기타'}\n",
    "for s in dataset_1depth:\n",
    "    arr_new = [i for i in s if i.split('_')[0] not in rm_set]\n",
    "    ho.append(arr_new)\n",
    "\n",
    "dataset_1depth=ho\n",
    "\n",
    "## 4. 분석 : 장바구니 분석\n",
    "my_basket(dataset_1depth).to_excel(f'{path}/{file_name}/[월간보고]1depth_장바구니 분석.xlsx',index=False)"
   ]
  },
  {
   "attachments": {},
   "cell_type": "markdown",
   "metadata": {},
   "source": [
    "### 참고용\n",
    "### <장바구니 분석 및 통계분석 기준>\n",
    "- 2023.01.05\n",
    "\n",
    "1) MX + MX  ( MX 단독 구매): only MX으로만 구성\n",
    "  - 기타 제거: 기타 \"행\" 제거      \n",
    "    - 예시) [MX, MX, 기타 ] -> 행 제거됨\n",
    "\n",
    "2) CE+CE (CE 단독 구매)\n",
    "  - 1번과 방식 동일\n",
    "\n",
    "3) MX+CE / TV+생활가전 등 : 각 1개 이상 필수 포함\n",
    "  - 기타 제거: **시각적** 기타 제거\n",
    "    - 예시) [TV, 세탁기, 기타]   -> [TV, 세탁기]\n",
    "    - 예시) [TV, 세탁기, 냉장고 ] -> [TV, 세탁기, 냉장고 ]와 같은 형태 포함됨\n",
    "\n",
    "4) 전체 (2depth)\n",
    "  - 기타 제거 :**시각적** 기타제거"
   ]
  }
 ],
 "metadata": {
  "kernelspec": {
   "display_name": "Python 3.9.12 ('base')",
   "language": "python",
   "name": "python3"
  },
  "language_info": {
   "codemirror_mode": {
    "name": "ipython",
    "version": 3
   },
   "file_extension": ".py",
   "mimetype": "text/x-python",
   "name": "python",
   "nbconvert_exporter": "python",
   "pygments_lexer": "ipython3",
   "version": "3.9.12"
  },
  "orig_nbformat": 4,
  "vscode": {
   "interpreter": {
    "hash": "049f16620429c497b48a863c457ff8324c5c16782b57204709252ab8a6fed088"
   }
  }
 },
 "nbformat": 4,
 "nbformat_minor": 2
}
