{
 "cells": [
  {
   "attachments": {},
   "cell_type": "markdown",
   "metadata": {},
   "source": [
    "## 월간 보고용 : 매출 분석"
   ]
  },
  {
   "cell_type": "code",
   "execution_count": 1,
   "metadata": {},
   "outputs": [],
   "source": [
    "import pandas as pd\n",
    "import re\n",
    "from mlxtend.preprocessing import TransactionEncoder\n",
    "from mlxtend.frequent_patterns import apriori\n",
    "from mlxtend.frequent_patterns import apriori, association_rules\n",
    "import datetime as dt\n",
    "from dateutil.relativedelta import relativedelta\n",
    "import os\n",
    "from collections import Counter"
   ]
  },
  {
   "cell_type": "code",
   "execution_count": 2,
   "metadata": {},
   "outputs": [
    {
     "name": "stdout",
     "output_type": "stream",
     "text": [
      "C:\\GMG_R&D\\3. 장바구니 분석\\1. 한총\n"
     ]
    }
   ],
   "source": [
    "input_path = 'C:/GMG_R&D/3. 장바구니 분석/1. 한총' \n",
    "os.chdir(input_path)\n",
    "path=os.getcwd()\n",
    "print(path)\n",
    "\n",
    "x = dt.datetime.now()\n",
    "file_name=f'월간보고서_{x.year}년_{(x - relativedelta(months=1)).month}월/매출_{x.month}월 {x.day}일'\n",
    "\n",
    "if not os.path.exists(file_name):\n",
    "    os.makedirs(file_name) "
   ]
  },
  {
   "cell_type": "code",
   "execution_count": 3,
   "metadata": {},
   "outputs": [],
   "source": [
    "def frozen_convert(sets) : \n",
    "        return [list(sets)]"
   ]
  },
  {
   "cell_type": "code",
   "execution_count": 4,
   "metadata": {},
   "outputs": [],
   "source": [
    "pd.options.display.float_format = '{:,.1f}'.format"
   ]
  },
  {
   "cell_type": "markdown",
   "metadata": {},
   "source": [
    "### 1. 한총 데이터 로드"
   ]
  },
  {
   "cell_type": "code",
   "execution_count": 5,
   "metadata": {},
   "outputs": [
    {
     "name": "stdout",
     "output_type": "stream",
     "text": [
      "<class 'pandas.core.frame.DataFrame'>\n",
      "Index: 5492 entries, Model Code (v41) to PSKS0101G\n",
      "Data columns (total 2 columns):\n",
      " #   Column                    Non-Null Count  Dtype\n",
      "---  ------                    --------------  -----\n",
      " 0   Order (purchase event)    5492 non-null   int64\n",
      " 1   Revenue (purchase event)  5492 non-null   int64\n",
      "dtypes: int64(2)\n",
      "memory usage: 128.7+ KB\n"
     ]
    }
   ],
   "source": [
    "df= pd.read_clipboard(sep='\\t')\n",
    "df.info()"
   ]
  },
  {
   "cell_type": "code",
   "execution_count": 6,
   "metadata": {},
   "outputs": [
    {
     "data": {
      "text/html": [
       "<div>\n",
       "<style scoped>\n",
       "    .dataframe tbody tr th:only-of-type {\n",
       "        vertical-align: middle;\n",
       "    }\n",
       "\n",
       "    .dataframe tbody tr th {\n",
       "        vertical-align: top;\n",
       "    }\n",
       "\n",
       "    .dataframe thead th {\n",
       "        text-align: right;\n",
       "    }\n",
       "</style>\n",
       "<table border=\"1\" class=\"dataframe\">\n",
       "  <thead>\n",
       "    <tr style=\"text-align: right;\">\n",
       "      <th></th>\n",
       "      <th>Model Code (v41)</th>\n",
       "      <th>Order (purchase event)</th>\n",
       "      <th>Revenue (purchase event)</th>\n",
       "    </tr>\n",
       "  </thead>\n",
       "  <tbody>\n",
       "    <tr>\n",
       "      <th>0</th>\n",
       "      <td>RF85B90023Y</td>\n",
       "      <td>1242</td>\n",
       "      <td>1973103232</td>\n",
       "    </tr>\n",
       "    <tr>\n",
       "      <th>1</th>\n",
       "      <td>VS20B957D5G</td>\n",
       "      <td>980</td>\n",
       "      <td>721538145</td>\n",
       "    </tr>\n",
       "    <tr>\n",
       "      <th>2</th>\n",
       "      <td>VCA-ADB95A</td>\n",
       "      <td>685</td>\n",
       "      <td>6966975</td>\n",
       "    </tr>\n",
       "    <tr>\n",
       "      <th>3</th>\n",
       "      <td>HAF-HIN</td>\n",
       "      <td>667</td>\n",
       "      <td>77849421</td>\n",
       "    </tr>\n",
       "    <tr>\n",
       "      <th>4</th>\n",
       "      <td>VCA-SBT90/VT</td>\n",
       "      <td>658</td>\n",
       "      <td>63826294</td>\n",
       "    </tr>\n",
       "    <tr>\n",
       "      <th>...</th>\n",
       "      <td>...</td>\n",
       "      <td>...</td>\n",
       "      <td>...</td>\n",
       "    </tr>\n",
       "    <tr>\n",
       "      <th>5486</th>\n",
       "      <td>NZ60R7703PW</td>\n",
       "      <td>1</td>\n",
       "      <td>0</td>\n",
       "    </tr>\n",
       "    <tr>\n",
       "      <th>5487</th>\n",
       "      <td>SMS-S20W</td>\n",
       "      <td>1</td>\n",
       "      <td>0</td>\n",
       "    </tr>\n",
       "    <tr>\n",
       "      <th>5488</th>\n",
       "      <td>HTRPremium</td>\n",
       "      <td>1</td>\n",
       "      <td>0</td>\n",
       "    </tr>\n",
       "    <tr>\n",
       "      <th>5489</th>\n",
       "      <td>JBLT760NCBLS</td>\n",
       "      <td>1</td>\n",
       "      <td>0</td>\n",
       "    </tr>\n",
       "    <tr>\n",
       "      <th>5490</th>\n",
       "      <td>PSKS0101G</td>\n",
       "      <td>1</td>\n",
       "      <td>0</td>\n",
       "    </tr>\n",
       "  </tbody>\n",
       "</table>\n",
       "<p>5491 rows × 3 columns</p>\n",
       "</div>"
      ],
      "text/plain": [
       "     Model Code (v41)  Order (purchase event)  Revenue (purchase event)\n",
       "0         RF85B90023Y                    1242                1973103232\n",
       "1         VS20B957D5G                     980                 721538145\n",
       "2          VCA-ADB95A                     685                   6966975\n",
       "3             HAF-HIN                     667                  77849421\n",
       "4        VCA-SBT90/VT                     658                  63826294\n",
       "...               ...                     ...                       ...\n",
       "5486      NZ60R7703PW                       1                         0\n",
       "5487         SMS-S20W                       1                         0\n",
       "5488       HTRPremium                       1                         0\n",
       "5489     JBLT760NCBLS                       1                         0\n",
       "5490        PSKS0101G                       1                         0\n",
       "\n",
       "[5491 rows x 3 columns]"
      ]
     },
     "execution_count": 6,
     "metadata": {},
     "output_type": "execute_result"
    }
   ],
   "source": [
    "df=df[1:]\n",
    "df=df.reset_index().rename(columns={\"index\": \"Model Code (v41)\"})\n",
    "df=df.fillna(0)\n",
    "df"
   ]
  },
  {
   "attachments": {},
   "cell_type": "markdown",
   "metadata": {},
   "source": [
    "### 2. 카테고리"
   ]
  },
  {
   "cell_type": "code",
   "execution_count": 7,
   "metadata": {},
   "outputs": [
    {
     "name": "stdout",
     "output_type": "stream",
     "text": [
      "<class 'pandas.core.frame.DataFrame'>\n",
      "RangeIndex: 38 entries, 0 to 37\n",
      "Data columns (total 4 columns):\n",
      " #   Column            Non-Null Count  Dtype \n",
      "---  ------            --------------  ----- \n",
      " 0   depth1            38 non-null     object\n",
      " 1   Category1D        38 non-null     object\n",
      " 2   Category2D        38 non-null     object\n",
      " 3   Category2D_Value  38 non-null     object\n",
      "dtypes: object(4)\n",
      "memory usage: 1.3+ KB\n"
     ]
    }
   ],
   "source": [
    "#카테고리 가져오기\n",
    "rex= pd.read_clipboard(sep='\\t')\n",
    "rex=rex.astype(str)\n",
    "rex.info()"
   ]
  },
  {
   "attachments": {},
   "cell_type": "markdown",
   "metadata": {},
   "source": [
    "### 3. 부문별 매출 (CE+CE, MX+MX, CE+MX)"
   ]
  },
  {
   "cell_type": "code",
   "execution_count": 8,
   "metadata": {},
   "outputs": [
    {
     "data": {
      "text/plain": [
       "['Order (purchase event)']"
      ]
     },
     "execution_count": 8,
     "metadata": {},
     "output_type": "execute_result"
    }
   ],
   "source": [
    "only_order=[i for i in df.columns if 'Order' in i]\n",
    "only_order"
   ]
  },
  {
   "cell_type": "code",
   "execution_count": 9,
   "metadata": {},
   "outputs": [
    {
     "data": {
      "text/plain": [
       "['Revenue (purchase event)']"
      ]
     },
     "execution_count": 9,
     "metadata": {},
     "output_type": "execute_result"
    }
   ],
   "source": [
    "only_reve=[i for i in df.columns if 'Revenue' in i]\n",
    "only_reve"
   ]
  },
  {
   "cell_type": "code",
   "execution_count": 10,
   "metadata": {},
   "outputs": [
    {
     "name": "stdout",
     "output_type": "stream",
     "text": [
      "MX 총 매출 757465000\n",
      "MX+CE 총 매출 130905100\n",
      "CE 총 매출 4668864703\n"
     ]
    },
    {
     "data": {
      "text/html": [
       "<div>\n",
       "<style scoped>\n",
       "    .dataframe tbody tr th:only-of-type {\n",
       "        vertical-align: middle;\n",
       "    }\n",
       "\n",
       "    .dataframe tbody tr th {\n",
       "        vertical-align: top;\n",
       "    }\n",
       "\n",
       "    .dataframe thead th {\n",
       "        text-align: right;\n",
       "    }\n",
       "</style>\n",
       "<table border=\"1\" class=\"dataframe\">\n",
       "  <thead>\n",
       "    <tr style=\"text-align: right;\">\n",
       "      <th></th>\n",
       "      <th>CE+MX</th>\n",
       "      <th>CE+CE</th>\n",
       "      <th>MX+MX</th>\n",
       "      <th>공동구매 비율</th>\n",
       "      <th>전체 매출</th>\n",
       "      <th>공동구매(2개이상)</th>\n",
       "      <th>기타</th>\n",
       "    </tr>\n",
       "  </thead>\n",
       "  <tbody>\n",
       "    <tr>\n",
       "      <th>0</th>\n",
       "      <td>130905100</td>\n",
       "      <td>4668864703</td>\n",
       "      <td>757465000</td>\n",
       "      <td>0.2</td>\n",
       "      <td>37434451310</td>\n",
       "      <td>5681908163</td>\n",
       "      <td>124673360</td>\n",
       "    </tr>\n",
       "  </tbody>\n",
       "</table>\n",
       "</div>"
      ],
      "text/plain": [
       "       CE+MX       CE+CE      MX+MX  공동구매 비율        전체 매출  공동구매(2개이상)  \\\n",
       "0  130905100  4668864703  757465000      0.2  37434451310  5681908163   \n",
       "\n",
       "          기타  \n",
       "0  124673360  "
      ]
     },
     "execution_count": 10,
     "metadata": {},
     "output_type": "execute_result"
    }
   ],
   "source": [
    "new_df=[]\n",
    "for y , revenue_y in zip(only_order,only_reve):\n",
    "    \n",
    "    y_df = df[['Model Code (v41)',y, revenue_y]]\n",
    "    y_df=y_df[y_df['Model Code (v41)'].str.contains(',')]\n",
    "    y_df = y_df[y_df[y]!=0]\n",
    "    y_df = y_df.reset_index(drop=True)\n",
    "    \n",
    "    y_df[revenue_y]=y_df[revenue_y].astype(str)\n",
    "    #전체 SKU 하나의 리스트로\n",
    "    a = y_df['Model Code (v41)'].tolist()\n",
    "    b = ','.join(a) #리스트 문자열로\n",
    "    c = b.split(',') #문자열 개별 문자로 리스트화 \n",
    "    model = list(set(c)) #중복 제거\n",
    "\n",
    "    dic_category={}\n",
    "    for m in model :\n",
    "        flag = 1\n",
    "        for i in range(len(rex)):\n",
    "            r = re.compile(rex.Category2D_Value[i])\n",
    "            if r.search(m):\n",
    "                dic_category[m] = rex.depth1[i] \n",
    "                flag = 0\n",
    "                break\n",
    "        if flag :\n",
    "            dic_category[m] = '기타'\n",
    "\n",
    "    #데이터셋 만들기\n",
    "    dataset = []   # 데이터셋 구조 [ [a,b], [a,c], [a,b,c] .... ]\n",
    "\n",
    "    for i in range(len(y_df)) :\n",
    "        sku = y_df['Model Code (v41)'][i]\n",
    "        revised = sku.split(\",\")\n",
    "        code = []\n",
    "        for j in range(len(revised)) :\n",
    "            code.append(dic_category[revised[j]]+'_'+y_df[revenue_y][i])   #각 SKU 리스트에 담기\n",
    "        dataset.append(code) \n",
    "\n",
    "    ALL=pd.DataFrame(dataset)[0].apply(lambda x: x.split(sep='_'))\n",
    "    two_sum=sum([abs(int(i[1])) for i in ALL])\n",
    "\n",
    "    ######################## 1. MX #####################\n",
    "    MX =[]\n",
    "    for s in dataset:\n",
    "        if all('MX' in x for x in s ):\n",
    "            MX.append(s)\n",
    "\n",
    "    AA=pd.DataFrame(MX)[0].apply(lambda x: x.split(sep='_'))\n",
    "    mx_reve=sum([abs(int(i[1])) for i in AA])\n",
    "    #print('MX', len(MX))\n",
    "    #print('MX 비중', len(MX)/len(dataset))\n",
    "    print('MX 총 매출', mx_reve)\n",
    "    \n",
    "    \n",
    "    ################## 2.MX+CE 함께 구매 ###################\n",
    "    MX_CE1=[]\n",
    "    for s in dataset:\n",
    "        if any('CE' in l for l in s):\n",
    "            MX_CE1.append(s)\n",
    "\n",
    "    MX_CE=[]\n",
    "    for s in MX_CE1:\n",
    "        if any('MX' in l for l in s):\n",
    "            MX_CE.append(s)\n",
    "\n",
    "    BB=pd.DataFrame(MX_CE)[0].apply(lambda x: x.split(sep='_'))\n",
    "    mx_ce_reve=sum([abs(int(i[1])) for i in BB])\n",
    "    #print('MX+CE', len(MX_CE))\n",
    "    #print('MX+CE 비중', len(MX_CE)/len(dataset))\n",
    "    print('MX+CE 총 매출', mx_ce_reve)\n",
    "\n",
    "    ###################### 3.CE #########################\n",
    "    CE =[]\n",
    "    for s in dataset:\n",
    "        if all('CE' in x for x in s ):\n",
    "            CE.append(s)\n",
    "    CC=pd.DataFrame(CE)[0].apply(lambda x: x.split(sep='_'))\n",
    "    ce_reve=sum([abs(int(i[1])) for i in CC])\n",
    "    #print('CE', len(CE))\n",
    "    #print('CE 비중', len(CE)/len(dataset))\n",
    "    print('CE 총 매출', ce_reve)\n",
    "    \n",
    "    all_rev=df[revenue_y].sum() #전체\n",
    "    ratio_two=two_sum/df[revenue_y].sum()  #공동구매 비율\n",
    "    etc=two_sum-(mx_ce_reve + ce_reve + mx_reve)  #기타\n",
    "    new_df1=[]\n",
    "    for i in [mx_ce_reve,  ce_reve, mx_reve, ratio_two, all_rev, two_sum, etc]:\n",
    "        new_df1.append(i)\n",
    "    new_df.append(new_df1)\n",
    "\n",
    "    \n",
    "#데이터 저장3: 데이터 기준\n",
    "pd.DataFrame(new_df,columns=['CE+MX','CE+CE','MX+MX','공동구매 비율','전체 매출','공동구매(2개이상)','기타'],index=[only_reve[num] for num in range(len(only_reve))]).to_excel(f'{path}/{file_name}/[매출]부문별 통계.xlsx')\n",
    "pd.DataFrame(new_df,columns=['CE+MX','CE+CE','MX+MX','공동구매 비율','전체 매출','공동구매(2개이상)','기타'])\n"
   ]
  },
  {
   "attachments": {},
   "cell_type": "markdown",
   "metadata": {},
   "source": [
    "### 4. 단독구매 원할 경우, 주문 및 매출 기초통계"
   ]
  },
  {
   "cell_type": "code",
   "execution_count": 11,
   "metadata": {},
   "outputs": [
    {
     "name": "stdout",
     "output_type": "stream",
     "text": [
      "전체:  57236\n",
      "1개:  51000\n",
      "2개이상:  6236\n",
      "제품 1개 구매 비중:  89.1\n",
      "제품 2개이상 구매 비중:  10.9\n",
      "전체:  37434451310\n",
      "1개:  31752543147\n",
      "2개이상:  5681908163\n",
      "제품 1개 구매 비중:  84.82\n",
      "제품 2개이상 구매 비중:  15.18\n"
     ]
    },
    {
     "data": {
      "text/html": [
       "<div>\n",
       "<style scoped>\n",
       "    .dataframe tbody tr th:only-of-type {\n",
       "        vertical-align: middle;\n",
       "    }\n",
       "\n",
       "    .dataframe tbody tr th {\n",
       "        vertical-align: top;\n",
       "    }\n",
       "\n",
       "    .dataframe thead th {\n",
       "        text-align: right;\n",
       "    }\n",
       "</style>\n",
       "<table border=\"1\" class=\"dataframe\">\n",
       "  <thead>\n",
       "    <tr style=\"text-align: right;\">\n",
       "      <th></th>\n",
       "      <th>전체</th>\n",
       "      <th>1개</th>\n",
       "      <th>2개이상</th>\n",
       "      <th>제품 1개 구매 비중</th>\n",
       "      <th>제품 2개이상 구매 비중</th>\n",
       "    </tr>\n",
       "  </thead>\n",
       "  <tbody>\n",
       "    <tr>\n",
       "      <th>0</th>\n",
       "      <td>57236</td>\n",
       "      <td>51000</td>\n",
       "      <td>6236</td>\n",
       "      <td>89.1</td>\n",
       "      <td>10.9</td>\n",
       "    </tr>\n",
       "    <tr>\n",
       "      <th>1</th>\n",
       "      <td>37434451310</td>\n",
       "      <td>31752543147</td>\n",
       "      <td>5681908163</td>\n",
       "      <td>84.8</td>\n",
       "      <td>15.2</td>\n",
       "    </tr>\n",
       "  </tbody>\n",
       "</table>\n",
       "</div>"
      ],
      "text/plain": [
       "            전체           1개        2개이상  제품 1개 구매 비중  제품 2개이상 구매 비중\n",
       "0        57236        51000        6236         89.1           10.9\n",
       "1  37434451310  31752543147  5681908163         84.8           15.2"
      ]
     },
     "execution_count": 11,
     "metadata": {},
     "output_type": "execute_result"
    }
   ],
   "source": [
    "new_df=[]\n",
    "\n",
    "for sample in df.columns[1:]:\n",
    "    \n",
    "    all=df[sample].sum()\n",
    "    one=df[~df[['Model Code (v41)',sample]]['Model Code (v41)'].str.contains(',')][sample].sum()\n",
    "    two=df[df[['Model Code (v41)',sample]]['Model Code (v41)'].str.contains(',')][sample].sum()\n",
    "    percent_one=round((df[~df[['Model Code (v41)',sample]]['Model Code (v41)'].str.contains(',')][sample].sum()/all)*100,2)\n",
    "    percent_two=round((df[df[['Model Code (v41)',sample]]['Model Code (v41)'].str.contains(',')][sample].sum()/all)*100,2)\n",
    "\n",
    "    \n",
    "    \n",
    "    print('전체: ',all)\n",
    "    print('1개: ',one)\n",
    "    print('2개이상: ',two)\n",
    "    print(\"제품 1개 구매 비중: \",percent_one)\n",
    "    print(\"제품 2개이상 구매 비중: \",percent_two)\n",
    "\n",
    "    new_df1=[]\n",
    "    for i in [all, one, two, percent_one,percent_two]:\n",
    "        new_df1.append(i)\n",
    "    new_df.append(new_df1)\n",
    "\n",
    "# 데이터 저장3: 데이터 기준\n",
    "pd.DataFrame(new_df,columns=['전체','1개','2개이상','제품 1개 구매 비중', '제품 2개이상 구매 비중'],\n",
    "            index=[i[:3] for i in df.columns[1:]]).to_csv(f'{path}/{file_name}/[참고용]주문_매출_기초통계량결과.csv', encoding='utf-8-sig')\n",
    "pd.DataFrame(new_df,columns=['전체','1개','2개이상','제품 1개 구매 비중', '제품 2개이상 구매 비중'])\n"
   ]
  },
  {
   "attachments": {},
   "cell_type": "markdown",
   "metadata": {},
   "source": [
    "#### 참고) 매출 계산시 2020년도와 2021년에는 float의 형태로 필수로 진행 (2022년도는 패스)"
   ]
  },
  {
   "cell_type": "code",
   "execution_count": null,
   "metadata": {},
   "outputs": [],
   "source": [
    "# for i in only_reve[:-1]:\n",
    "#     df[i]=df[i].astype(str).apply(lambda x: x[:-2])\n",
    "# df[only_reve[:-1]]"
   ]
  },
  {
   "cell_type": "code",
   "execution_count": null,
   "metadata": {},
   "outputs": [],
   "source": [
    "# df['2020_revenue']=df['2020_revenue'].astype(str)\n",
    "# df"
   ]
  }
 ],
 "metadata": {
  "kernelspec": {
   "display_name": "Python 3.9.12 ('base')",
   "language": "python",
   "name": "python3"
  },
  "language_info": {
   "codemirror_mode": {
    "name": "ipython",
    "version": 3
   },
   "file_extension": ".py",
   "mimetype": "text/x-python",
   "name": "python",
   "nbconvert_exporter": "python",
   "pygments_lexer": "ipython3",
   "version": "3.9.12"
  },
  "orig_nbformat": 4,
  "vscode": {
   "interpreter": {
    "hash": "049f16620429c497b48a863c457ff8324c5c16782b57204709252ab8a6fed088"
   }
  }
 },
 "nbformat": 4,
 "nbformat_minor": 2
}
