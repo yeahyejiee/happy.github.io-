{
 "cells": [
  {
   "attachments": {},
   "cell_type": "markdown",
   "metadata": {},
   "source": [
    "## 월간 보고용 : 누적분석"
   ]
  },
  {
   "cell_type": "code",
   "execution_count": 1,
   "metadata": {},
   "outputs": [],
   "source": [
    "import pandas as pd\n",
    "import re\n",
    "from mlxtend.preprocessing import TransactionEncoder\n",
    "from mlxtend.frequent_patterns import apriori\n",
    "from mlxtend.frequent_patterns import apriori, association_rules\n",
    "import datetime as dt\n",
    "import os\n",
    "from dateutil.relativedelta import relativedelta"
   ]
  },
  {
   "cell_type": "markdown",
   "metadata": {},
   "source": [
    "### 0. 경로 설정"
   ]
  },
  {
   "cell_type": "code",
   "execution_count": 2,
   "metadata": {},
   "outputs": [
    {
     "name": "stdout",
     "output_type": "stream",
     "text": [
      "C:\\GMG_R&D\\3. 장바구니 분석\\1. 한총\n"
     ]
    }
   ],
   "source": [
    "input_path = 'C:/GMG_R&D/3. 장바구니 분석/1. 한총' \n",
    "os.chdir(input_path)\n",
    "path=os.getcwd()\n",
    "print(path)\n",
    "\n",
    "x = dt.datetime.now()\n",
    "file_name=f'월간보고서_{x.year}년_{(x - relativedelta(months=1)).month}월/누적_{x.month}월 {x.day}일'\n",
    "\n",
    "if not os.path.exists(file_name):\n",
    "    os.makedirs(file_name) "
   ]
  },
  {
   "cell_type": "markdown",
   "metadata": {},
   "source": [
    "### 1. 한총 데이터 로드"
   ]
  },
  {
   "cell_type": "code",
   "execution_count": 3,
   "metadata": {},
   "outputs": [
    {
     "name": "stdout",
     "output_type": "stream",
     "text": [
      "<class 'pandas.core.frame.DataFrame'>\n",
      "Index: 46536 entries, Model Code (v41) to RF60B91U2W6,WF21T9500KW7T,KQ75QB65-W1B5,DW60T7065SSS\n",
      "Data columns (total 1 columns):\n",
      " #   Column                  Non-Null Count  Dtype\n",
      "---  ------                  --------------  -----\n",
      " 0   Order (purchase event)  46536 non-null  int64\n",
      "dtypes: int64(1)\n",
      "memory usage: 727.1+ KB\n"
     ]
    }
   ],
   "source": [
    "df= pd.read_clipboard(sep='\\t')\n",
    "df.info()"
   ]
  },
  {
   "cell_type": "code",
   "execution_count": 4,
   "metadata": {},
   "outputs": [
    {
     "data": {
      "text/html": [
       "<div>\n",
       "<style scoped>\n",
       "    .dataframe tbody tr th:only-of-type {\n",
       "        vertical-align: middle;\n",
       "    }\n",
       "\n",
       "    .dataframe tbody tr th {\n",
       "        vertical-align: top;\n",
       "    }\n",
       "\n",
       "    .dataframe thead th {\n",
       "        text-align: right;\n",
       "    }\n",
       "</style>\n",
       "<table border=\"1\" class=\"dataframe\">\n",
       "  <thead>\n",
       "    <tr style=\"text-align: right;\">\n",
       "      <th></th>\n",
       "      <th>Model Code (v41)</th>\n",
       "      <th>Order (purchase event)</th>\n",
       "    </tr>\n",
       "  </thead>\n",
       "  <tbody>\n",
       "    <tr>\n",
       "      <th>0</th>\n",
       "      <td>GP-FPR190HIBWK,SM-R190NZVAKOO</td>\n",
       "      <td>14590</td>\n",
       "    </tr>\n",
       "    <tr>\n",
       "      <th>1</th>\n",
       "      <td>GP-FPR190HIBLK,SM-R190NZVAKOO</td>\n",
       "      <td>9676</td>\n",
       "    </tr>\n",
       "    <tr>\n",
       "      <th>2</th>\n",
       "      <td>GP-FPR190HIBLK,SM-R190NZKAKOO</td>\n",
       "      <td>8483</td>\n",
       "    </tr>\n",
       "    <tr>\n",
       "      <th>3</th>\n",
       "      <td>GP-FPR190HIBWK,SM-R190NZKAKOO</td>\n",
       "      <td>6120</td>\n",
       "    </tr>\n",
       "    <tr>\n",
       "      <th>4</th>\n",
       "      <td>GP-FPR190HIBWK,SM-R190NZSAKOO</td>\n",
       "      <td>4957</td>\n",
       "    </tr>\n",
       "    <tr>\n",
       "      <th>...</th>\n",
       "      <td>...</td>\n",
       "      <td>...</td>\n",
       "    </tr>\n",
       "    <tr>\n",
       "      <th>46530</th>\n",
       "      <td>SM-R860NZKAKOO,SM-R860NZKAKOO,EP-TA800XWKGKR</td>\n",
       "      <td>1</td>\n",
       "    </tr>\n",
       "    <tr>\n",
       "      <th>46531</th>\n",
       "      <td>DF-WK,DF-AS3</td>\n",
       "      <td>1</td>\n",
       "    </tr>\n",
       "    <tr>\n",
       "      <th>46532</th>\n",
       "      <td>sam0017,sam0019,sam0020</td>\n",
       "      <td>1</td>\n",
       "    </tr>\n",
       "    <tr>\n",
       "      <th>46533</th>\n",
       "      <td>1CA10103,1CA10103,1CA10098,1CA10051,36266,36266</td>\n",
       "      <td>1</td>\n",
       "    </tr>\n",
       "    <tr>\n",
       "      <th>46534</th>\n",
       "      <td>RF60B91U2W6,WF21T9500KW7T,KQ75QB65-W1B5,DW60T7...</td>\n",
       "      <td>1</td>\n",
       "    </tr>\n",
       "  </tbody>\n",
       "</table>\n",
       "<p>46535 rows × 2 columns</p>\n",
       "</div>"
      ],
      "text/plain": [
       "                                        Model Code (v41)  \\\n",
       "0                          GP-FPR190HIBWK,SM-R190NZVAKOO   \n",
       "1                          GP-FPR190HIBLK,SM-R190NZVAKOO   \n",
       "2                          GP-FPR190HIBLK,SM-R190NZKAKOO   \n",
       "3                          GP-FPR190HIBWK,SM-R190NZKAKOO   \n",
       "4                          GP-FPR190HIBWK,SM-R190NZSAKOO   \n",
       "...                                                  ...   \n",
       "46530       SM-R860NZKAKOO,SM-R860NZKAKOO,EP-TA800XWKGKR   \n",
       "46531                                       DF-WK,DF-AS3   \n",
       "46532                            sam0017,sam0019,sam0020   \n",
       "46533    1CA10103,1CA10103,1CA10098,1CA10051,36266,36266   \n",
       "46534  RF60B91U2W6,WF21T9500KW7T,KQ75QB65-W1B5,DW60T7...   \n",
       "\n",
       "       Order (purchase event)  \n",
       "0                       14590  \n",
       "1                        9676  \n",
       "2                        8483  \n",
       "3                        6120  \n",
       "4                        4957  \n",
       "...                       ...  \n",
       "46530                       1  \n",
       "46531                       1  \n",
       "46532                       1  \n",
       "46533                       1  \n",
       "46534                       1  \n",
       "\n",
       "[46535 rows x 2 columns]"
      ]
     },
     "execution_count": 4,
     "metadata": {},
     "output_type": "execute_result"
    }
   ],
   "source": [
    "df=df[1:]\n",
    "df=df.reset_index().rename(columns={\"index\": \"Model Code (v41)\"})\n",
    "df"
   ]
  },
  {
   "cell_type": "code",
   "execution_count": 15,
   "metadata": {},
   "outputs": [
    {
     "data": {
      "text/plain": [
       "215551"
      ]
     },
     "execution_count": 15,
     "metadata": {},
     "output_type": "execute_result"
    }
   ],
   "source": [
    "df['Order (purchase event)'].sum()"
   ]
  },
  {
   "cell_type": "markdown",
   "metadata": {},
   "source": [
    "### 2. 카테고리 파일 로드"
   ]
  },
  {
   "cell_type": "code",
   "execution_count": 9,
   "metadata": {},
   "outputs": [
    {
     "name": "stdout",
     "output_type": "stream",
     "text": [
      "<class 'pandas.core.frame.DataFrame'>\n",
      "RangeIndex: 9 entries, 0 to 8\n",
      "Data columns (total 2 columns):\n",
      " #   Column            Non-Null Count  Dtype \n",
      "---  ------            --------------  ----- \n",
      " 0   Value             9 non-null      object\n",
      " 1   Category2D_Value  9 non-null      object\n",
      "dtypes: object(2)\n",
      "memory usage: 272.0+ bytes\n"
     ]
    }
   ],
   "source": [
    "#카테고리 가져오기\n",
    "rex= pd.read_clipboard(sep='\\t')\n",
    "rex=rex.astype(str)\n",
    "rex.info()"
   ]
  },
  {
   "cell_type": "code",
   "execution_count": 6,
   "metadata": {},
   "outputs": [],
   "source": [
    "#전체 SKU 하나의 리스트로\n",
    "a = df['Model Code (v41)'].tolist()\n",
    "b = ','.join(a) #리스트 문자열로\n",
    "c = b.split(',') #문자열 개별 문자로 리스트화 \n",
    "model = list(set(c)) #중복 제거"
   ]
  },
  {
   "cell_type": "code",
   "execution_count": 9,
   "metadata": {},
   "outputs": [],
   "source": [
    "#전체 SKU 담을 딕셔너리\n",
    "dic_category = {}\n",
    "\n",
    "for m in model :\n",
    "    flag = 1\n",
    "    for i in range(len(rex)):\n",
    "        r = re.compile(rex.Category2D_Value[i])\n",
    "        if r.search(m):\n",
    "            dic_category[m] = rex.depth1[i]+'_' +rex.Category1D[i] +'_'+ rex.Category2D[i]  #rex.Category1D[i] +'_'+  #sku 규칙을 알고자한다면, r.search(m).group()\n",
    "            flag = 0\n",
    "            break\n",
    "    if flag :\n",
    "        dic_category[m] = '기타'"
   ]
  },
  {
   "cell_type": "code",
   "execution_count": 11,
   "metadata": {},
   "outputs": [],
   "source": [
    "#데이터셋 만들기\n",
    "dataset = []    # 데이터셋 구조 [ [a,b], [a,c], [a,b,c] .... ]\n",
    "\n",
    "for i in range(len(df)) :\n",
    "    sku = df['Model Code (v41)'][i]\n",
    "    revised = sku.split(\",\")\n",
    "    code = []\n",
    "    for j in range(len(revised)) :\n",
    "        code.append(dic_category[revised[j]])   #각 SKU 리스트에 담기\n",
    "        \n",
    "    for k in range(df['Order (purchase event)'][i]) :   #order 수만큼 담기 Order (purchase event)\n",
    "        dataset.append(code) \n",
    "    "
   ]
  },
  {
   "cell_type": "code",
   "execution_count": 13,
   "metadata": {},
   "outputs": [],
   "source": [
    "# 기타: 시각적 제거\n",
    "ho = []\n",
    "rm_set = {'nan','기타'}\n",
    "for s in dataset:\n",
    "    arr_new = [i for i in s if i.split('_')[0] not in rm_set]\n",
    "    ho.append(arr_new)\n",
    "dataset=ho"
   ]
  },
  {
   "cell_type": "markdown",
   "metadata": {},
   "source": [
    "## 장바구니 분석"
   ]
  },
  {
   "cell_type": "code",
   "execution_count": 14,
   "metadata": {},
   "outputs": [
    {
     "data": {
      "text/plain": [
       "215551"
      ]
     },
     "execution_count": 14,
     "metadata": {},
     "output_type": "execute_result"
    }
   ],
   "source": [
    "len(dataset)"
   ]
  },
  {
   "cell_type": "code",
   "execution_count": 16,
   "metadata": {},
   "outputs": [
    {
     "data": {
      "text/html": [
       "<div>\n",
       "<style scoped>\n",
       "    .dataframe tbody tr th:only-of-type {\n",
       "        vertical-align: middle;\n",
       "    }\n",
       "\n",
       "    .dataframe tbody tr th {\n",
       "        vertical-align: top;\n",
       "    }\n",
       "\n",
       "    .dataframe thead th {\n",
       "        text-align: right;\n",
       "    }\n",
       "</style>\n",
       "<table border=\"1\" class=\"dataframe\">\n",
       "  <thead>\n",
       "    <tr style=\"text-align: right;\">\n",
       "      <th></th>\n",
       "      <th>antecedents</th>\n",
       "      <th>consequents</th>\n",
       "      <th>antecedent support</th>\n",
       "      <th>consequent support</th>\n",
       "      <th>support</th>\n",
       "      <th>confidence</th>\n",
       "      <th>lift</th>\n",
       "      <th>leverage</th>\n",
       "      <th>conviction</th>\n",
       "      <th>count</th>\n",
       "    </tr>\n",
       "  </thead>\n",
       "  <tbody>\n",
       "    <tr>\n",
       "      <th>0</th>\n",
       "      <td>(IM_PC/주변기기_노트북, CE_생활가전_청소기, CE_주방가전_큐커)</td>\n",
       "      <td>(IM_PC/주변기기_모니터, CE_생활가전_공기청정기)</td>\n",
       "      <td>0.000014</td>\n",
       "      <td>0.000056</td>\n",
       "      <td>0.000014</td>\n",
       "      <td>1.000000</td>\n",
       "      <td>17962.583333</td>\n",
       "      <td>1.391705e-05</td>\n",
       "      <td>inf</td>\n",
       "      <td>3</td>\n",
       "    </tr>\n",
       "    <tr>\n",
       "      <th>1</th>\n",
       "      <td>(IM_PC/주변기기_모니터, CE_생활가전_공기청정기, CE_생활가전_청소기)</td>\n",
       "      <td>(IM_PC/주변기기_노트북, CE_주방가전_큐커)</td>\n",
       "      <td>0.000028</td>\n",
       "      <td>0.000028</td>\n",
       "      <td>0.000014</td>\n",
       "      <td>0.500000</td>\n",
       "      <td>17962.583333</td>\n",
       "      <td>1.391705e-05</td>\n",
       "      <td>1.999944</td>\n",
       "      <td>3</td>\n",
       "    </tr>\n",
       "    <tr>\n",
       "      <th>2</th>\n",
       "      <td>(IM_PC/주변기기_노트북, CE_주방가전_큐커)</td>\n",
       "      <td>(IM_PC/주변기기_모니터, CE_생활가전_공기청정기, CE_생활가전_청소기)</td>\n",
       "      <td>0.000028</td>\n",
       "      <td>0.000028</td>\n",
       "      <td>0.000014</td>\n",
       "      <td>0.500000</td>\n",
       "      <td>17962.583333</td>\n",
       "      <td>1.391705e-05</td>\n",
       "      <td>1.999944</td>\n",
       "      <td>3</td>\n",
       "    </tr>\n",
       "    <tr>\n",
       "      <th>3</th>\n",
       "      <td>(IM_PC/주변기기_모니터, CE_생활가전_공기청정기)</td>\n",
       "      <td>(IM_PC/주변기기_노트북, CE_생활가전_청소기, CE_주방가전_큐커)</td>\n",
       "      <td>0.000056</td>\n",
       "      <td>0.000014</td>\n",
       "      <td>0.000014</td>\n",
       "      <td>0.250000</td>\n",
       "      <td>17962.583333</td>\n",
       "      <td>1.391705e-05</td>\n",
       "      <td>1.333315</td>\n",
       "      <td>3</td>\n",
       "    </tr>\n",
       "    <tr>\n",
       "      <th>4</th>\n",
       "      <td>(IM_PC/주변기기_노트북, CE_생활가전_공기청정기, CE_생활가전_청소기)</td>\n",
       "      <td>(IM_PC/주변기기_모니터, CE_주방가전_큐커)</td>\n",
       "      <td>0.000046</td>\n",
       "      <td>0.000019</td>\n",
       "      <td>0.000014</td>\n",
       "      <td>0.300000</td>\n",
       "      <td>16166.325000</td>\n",
       "      <td>1.391696e-05</td>\n",
       "      <td>1.428545</td>\n",
       "      <td>3</td>\n",
       "    </tr>\n",
       "    <tr>\n",
       "      <th>...</th>\n",
       "      <td>...</td>\n",
       "      <td>...</td>\n",
       "      <td>...</td>\n",
       "      <td>...</td>\n",
       "      <td>...</td>\n",
       "      <td>...</td>\n",
       "      <td>...</td>\n",
       "      <td>...</td>\n",
       "      <td>...</td>\n",
       "      <td>...</td>\n",
       "    </tr>\n",
       "    <tr>\n",
       "      <th>12039</th>\n",
       "      <td>(IM_PC/주변기기_모니터)</td>\n",
       "      <td>(CE_TV_TV 액세서리)</td>\n",
       "      <td>0.002148</td>\n",
       "      <td>0.008406</td>\n",
       "      <td>0.000019</td>\n",
       "      <td>0.008639</td>\n",
       "      <td>1.027711</td>\n",
       "      <td>5.003634e-07</td>\n",
       "      <td>1.000235</td>\n",
       "      <td>3</td>\n",
       "    </tr>\n",
       "    <tr>\n",
       "      <th>12040</th>\n",
       "      <td>(CE_TV_TV 액세서리)</td>\n",
       "      <td>(CE_주방가전_김치냉장고)</td>\n",
       "      <td>0.008406</td>\n",
       "      <td>0.006500</td>\n",
       "      <td>0.000056</td>\n",
       "      <td>0.006623</td>\n",
       "      <td>1.018908</td>\n",
       "      <td>1.033097e-06</td>\n",
       "      <td>1.000124</td>\n",
       "      <td>12</td>\n",
       "    </tr>\n",
       "    <tr>\n",
       "      <th>12041</th>\n",
       "      <td>(CE_주방가전_김치냉장고)</td>\n",
       "      <td>(CE_TV_TV 액세서리)</td>\n",
       "      <td>0.006500</td>\n",
       "      <td>0.008406</td>\n",
       "      <td>0.000056</td>\n",
       "      <td>0.008565</td>\n",
       "      <td>1.018908</td>\n",
       "      <td>1.033097e-06</td>\n",
       "      <td>1.000160</td>\n",
       "      <td>12</td>\n",
       "    </tr>\n",
       "    <tr>\n",
       "      <th>12042</th>\n",
       "      <td>(IM_PC/주변기기_PC 액세서리)</td>\n",
       "      <td>(CE_생활가전_세탁기)</td>\n",
       "      <td>0.002023</td>\n",
       "      <td>0.015992</td>\n",
       "      <td>0.000032</td>\n",
       "      <td>0.016055</td>\n",
       "      <td>1.003969</td>\n",
       "      <td>1.283838e-07</td>\n",
       "      <td>1.000065</td>\n",
       "      <td>6</td>\n",
       "    </tr>\n",
       "    <tr>\n",
       "      <th>12043</th>\n",
       "      <td>(CE_생활가전_세탁기)</td>\n",
       "      <td>(IM_PC/주변기기_PC 액세서리)</td>\n",
       "      <td>0.015992</td>\n",
       "      <td>0.002023</td>\n",
       "      <td>0.000032</td>\n",
       "      <td>0.002031</td>\n",
       "      <td>1.003969</td>\n",
       "      <td>1.283838e-07</td>\n",
       "      <td>1.000008</td>\n",
       "      <td>6</td>\n",
       "    </tr>\n",
       "  </tbody>\n",
       "</table>\n",
       "<p>12044 rows × 10 columns</p>\n",
       "</div>"
      ],
      "text/plain": [
       "                                        antecedents  \\\n",
       "0         (IM_PC/주변기기_노트북, CE_생활가전_청소기, CE_주방가전_큐커)   \n",
       "1      (IM_PC/주변기기_모니터, CE_생활가전_공기청정기, CE_생활가전_청소기)   \n",
       "2                      (IM_PC/주변기기_노트북, CE_주방가전_큐커)   \n",
       "3                   (IM_PC/주변기기_모니터, CE_생활가전_공기청정기)   \n",
       "4      (IM_PC/주변기기_노트북, CE_생활가전_공기청정기, CE_생활가전_청소기)   \n",
       "...                                             ...   \n",
       "12039                              (IM_PC/주변기기_모니터)   \n",
       "12040                               (CE_TV_TV 액세서리)   \n",
       "12041                               (CE_주방가전_김치냉장고)   \n",
       "12042                          (IM_PC/주변기기_PC 액세서리)   \n",
       "12043                                 (CE_생활가전_세탁기)   \n",
       "\n",
       "                                        consequents  antecedent support  \\\n",
       "0                   (IM_PC/주변기기_모니터, CE_생활가전_공기청정기)            0.000014   \n",
       "1                      (IM_PC/주변기기_노트북, CE_주방가전_큐커)            0.000028   \n",
       "2      (IM_PC/주변기기_모니터, CE_생활가전_공기청정기, CE_생활가전_청소기)            0.000028   \n",
       "3         (IM_PC/주변기기_노트북, CE_생활가전_청소기, CE_주방가전_큐커)            0.000056   \n",
       "4                      (IM_PC/주변기기_모니터, CE_주방가전_큐커)            0.000046   \n",
       "...                                             ...                 ...   \n",
       "12039                               (CE_TV_TV 액세서리)            0.002148   \n",
       "12040                               (CE_주방가전_김치냉장고)            0.008406   \n",
       "12041                               (CE_TV_TV 액세서리)            0.006500   \n",
       "12042                                 (CE_생활가전_세탁기)            0.002023   \n",
       "12043                          (IM_PC/주변기기_PC 액세서리)            0.015992   \n",
       "\n",
       "       consequent support   support  confidence          lift      leverage  \\\n",
       "0                0.000056  0.000014    1.000000  17962.583333  1.391705e-05   \n",
       "1                0.000028  0.000014    0.500000  17962.583333  1.391705e-05   \n",
       "2                0.000028  0.000014    0.500000  17962.583333  1.391705e-05   \n",
       "3                0.000014  0.000014    0.250000  17962.583333  1.391705e-05   \n",
       "4                0.000019  0.000014    0.300000  16166.325000  1.391696e-05   \n",
       "...                   ...       ...         ...           ...           ...   \n",
       "12039            0.008406  0.000019    0.008639      1.027711  5.003634e-07   \n",
       "12040            0.006500  0.000056    0.006623      1.018908  1.033097e-06   \n",
       "12041            0.008406  0.000056    0.008565      1.018908  1.033097e-06   \n",
       "12042            0.015992  0.000032    0.016055      1.003969  1.283838e-07   \n",
       "12043            0.002023  0.000032    0.002031      1.003969  1.283838e-07   \n",
       "\n",
       "       conviction  count  \n",
       "0             inf      3  \n",
       "1        1.999944      3  \n",
       "2        1.999944      3  \n",
       "3        1.333315      3  \n",
       "4        1.428545      3  \n",
       "...           ...    ...  \n",
       "12039    1.000235      3  \n",
       "12040    1.000124     12  \n",
       "12041    1.000160     12  \n",
       "12042    1.000065      6  \n",
       "12043    1.000008      6  \n",
       "\n",
       "[12044 rows x 10 columns]"
      ]
     },
     "execution_count": 16,
     "metadata": {},
     "output_type": "execute_result"
    }
   ],
   "source": [
    "#장바구니 분석\n",
    "te = TransactionEncoder()\n",
    "te_ary = te.fit(dataset).transform(dataset) #True / False\n",
    "df2 = pd.DataFrame(te_ary, columns=te.columns_)\n",
    "itemsets_data = apriori(df2, min_support=0.00001, use_colnames=True).sort_values('support', ascending=False).reset_index(drop=True)\n",
    "rules = association_rules(itemsets_data, metric='lift', min_threshold=1).sort_values('lift',ascending=False).reset_index(drop=True)\n",
    "rules['count']=(rules['support']*len(dataset)).astype(int)"
   ]
  },
  {
   "cell_type": "code",
   "execution_count": 17,
   "metadata": {},
   "outputs": [],
   "source": [
    "x = dt.datetime.now()\n",
    "\n",
    "num_conq=1\n",
    "N=4\n",
    "\n",
    "def frozen_convert(sets) : \n",
    "    return [list(sets)]\n",
    "\n",
    "for num_ant in [1]:\n",
    "    df = rules[rules.apply(lambda x:True if len(x.antecedents) == int(num_ant) else False, axis=1) & rules.apply(lambda x:True if len(x.consequents) == int(num_conq) else False, axis=1)]\n",
    "    df = df.sort_values('confidence', ascending=False)\n",
    "    #df = df.round(N)\n",
    "    df[['antecedents','consequents']] =df[['antecedents','consequents']].applymap(lambda x: frozen_convert(x))\n",
    "    df['antecedents']=df['antecedents'].astype(str).apply(lambda x: x.replace('[[','['))\n",
    "    df['antecedents']=df['antecedents'].apply(lambda x: x.replace(']]',']'))\n",
    "    df['consequents']=df['consequents'].astype(str).apply(lambda x: x.replace('[[','['))\n",
    "    df['consequents']=df['consequents'].apply(lambda x: x.replace(']]',']'))\n",
    "    df[['antecedents','consequents','count','confidence','support',\t'lift',\t'conviction']].to_excel(f'{path}/{file_name}/누적_장바구니_결과.xlsx')\n",
    "\n"
   ]
  }
 ],
 "metadata": {
  "kernelspec": {
   "display_name": "Python 3.9.12 ('base')",
   "language": "python",
   "name": "python3"
  },
  "language_info": {
   "codemirror_mode": {
    "name": "ipython",
    "version": 3
   },
   "file_extension": ".py",
   "mimetype": "text/x-python",
   "name": "python",
   "nbconvert_exporter": "python",
   "pygments_lexer": "ipython3",
   "version": "3.9.12"
  },
  "orig_nbformat": 4,
  "vscode": {
   "interpreter": {
    "hash": "049f16620429c497b48a863c457ff8324c5c16782b57204709252ab8a6fed088"
   }
  }
 },
 "nbformat": 4,
 "nbformat_minor": 2
}
