{
 "cells": [
  {
   "cell_type": "markdown",
   "metadata": {},
   "source": [
    "# 한총 계절 장바구니 분석"
   ]
  },
  {
   "cell_type": "code",
   "execution_count": 1,
   "metadata": {},
   "outputs": [],
   "source": [
    "#데이터셋 가져오기\n",
    "#order 컬럼명 바꾸기 - 숫자로 되어 있는 부분에 Order (purchase event) 입력\n",
    "import pandas as pd\n",
    "#카테고리 전처리\n",
    "import re\n",
    "# 장바구니 분석\n",
    "import pandas as pd\n",
    "from mlxtend.preprocessing import TransactionEncoder\n",
    "from mlxtend.frequent_patterns import apriori\n",
    "from mlxtend.frequent_patterns import apriori, association_rules\n",
    "import datetime as dt\n",
    "import os"
   ]
  },
  {
   "cell_type": "markdown",
   "metadata": {},
   "source": [
    "### 0. 경로 설정"
   ]
  },
  {
   "cell_type": "code",
   "execution_count": 2,
   "metadata": {},
   "outputs": [
    {
     "name": "stdout",
     "output_type": "stream",
     "text": [
      "C:\\GMG_R&D\\3. 장바구니 분석\\1. 한총\\계절\n"
     ]
    }
   ],
   "source": [
    "input_path = 'C:/GMG_R&D/3. 장바구니 분석/1. 한총/계절' #input(\"작업 파일 경로를 입력하세요\")\n",
    "os.chdir(input_path)\n",
    "path=os.getcwd()\n",
    "print(path)\n",
    "\n",
    "#폴더 생성\n",
    "#x = dt.datetime.now()\n",
    "year='2020'\n",
    "file_name=f'계절분석결과_{year}'\n",
    "\n",
    "if not os.path.exists(file_name):\n",
    "    os.mkdir(file_name) "
   ]
  },
  {
   "cell_type": "code",
   "execution_count": 40,
   "metadata": {},
   "outputs": [],
   "source": [
    "season_name={0: '봄', 1: '여름', 2:'가을',3:'겨울'}\n",
    "\n",
    "def frozen_convert(sets) : \n",
    "        return [list(sets)]\n",
    "\n",
    "def season_filter(data, month1, month2, month3):\n",
    "    return data[data['Month'].str.contains(month1) |data['Month'].str.contains(month2)|data['Month'].str.contains(month3)]"
   ]
  },
  {
   "cell_type": "markdown",
   "metadata": {},
   "source": [
    "### 1. 한총 데이터 로드"
   ]
  },
  {
   "cell_type": "code",
   "execution_count": 41,
   "metadata": {},
   "outputs": [
    {
     "name": "stdout",
     "output_type": "stream",
     "text": [
      "<class 'pandas.core.frame.DataFrame'>\n",
      "RangeIndex: 321492 entries, 0 to 321491\n",
      "Data columns (total 3 columns):\n",
      " #   Column                     Non-Null Count   Dtype \n",
      "---  ------                     --------------   ----- \n",
      " 0   Month                      321492 non-null  object\n",
      " 1   Model Code (v41) (evar41)  321437 non-null  object\n",
      " 2   Order (purchase event)     321492 non-null  int64 \n",
      "dtypes: int64(1), object(2)\n",
      "memory usage: 7.4+ MB\n"
     ]
    }
   ],
   "source": [
    "df= pd.read_clipboard(sep='\\t')\n",
    "df.info()"
   ]
  },
  {
   "cell_type": "code",
   "execution_count": 42,
   "metadata": {},
   "outputs": [
    {
     "name": "stdout",
     "output_type": "stream",
     "text": [
      "Index(['Month', 'Model Code (v41)', 'Order (purchase event)'], dtype='object')\n",
      "날짜 보기:  ['Jan-20' 'Feb-20' 'Mar-20' 'Apr-20' 'May-20' 'Jun-20' 'Jul-20' 'Aug-20'\n",
      " 'Sep-20' 'Oct-20' 'Nov-20' 'Dec-20' 'Jan-21' 'Feb-21' 'Mar-21' 'Apr-21'\n",
      " 'May-21' 'Jun-21' 'Jul-21' 'Aug-21' 'Sep-21' 'Oct-21' 'Nov-21' 'Dec-21'\n",
      " 'Jan-22' 'Feb-22' 'Mar-22' 'Apr-22' 'May-22' 'Jun-22' 'Jul-22' 'Aug-22']\n",
      "원하는 날짜보기:  ['Jan-20' 'Feb-20' 'Mar-20' 'Apr-20' 'May-20' 'Jun-20' 'Jul-20' 'Aug-20'\n",
      " 'Sep-20' 'Oct-20' 'Nov-20' 'Dec-20']\n"
     ]
    }
   ],
   "source": [
    "for i in df.columns:\n",
    "    if i=='Model Code (v41) (evar41)': \n",
    "        df=df.rename(columns={'Model Code (v41) (evar41)':'Model Code (v41)'})\n",
    "print(df.columns)\n",
    "# 날짜 보기\n",
    "print('날짜 보기: ',df['Month'].unique())\n",
    "\n",
    "print('원하는 날짜보기: ',df[df['Month'].str.endswith('20')]['Month'].unique())"
   ]
  },
  {
   "cell_type": "markdown",
   "metadata": {},
   "source": [
    "### 해당 날짜 선정 (na값 제외)"
   ]
  },
  {
   "cell_type": "code",
   "execution_count": 43,
   "metadata": {},
   "outputs": [
    {
     "name": "stdout",
     "output_type": "stream",
     "text": [
      "원하는 날짜 행:  62621\n",
      "빈행:  62597\n"
     ]
    }
   ],
   "source": [
    "df=df[df['Month'].str.endswith('20')]\n",
    "print('원하는 날짜 행: ',df.shape[0])\n",
    "df=df.dropna(axis=0)\n",
    "print('빈행제거후: ',df.shape[0])"
   ]
  },
  {
   "cell_type": "code",
   "execution_count": 45,
   "metadata": {},
   "outputs": [
    {
     "name": "stdout",
     "output_type": "stream",
     "text": [
      "     Month  Order (purchase event)\n",
      "0   Apr-20                    6752\n",
      "1   Aug-20                   23746\n",
      "2   Dec-20                   50249\n",
      "3   Feb-20                   13681\n",
      "4   Jan-20                    3036\n",
      "5   Jul-20                    6675\n",
      "6   Jun-20                    8559\n",
      "7   Mar-20                   11914\n",
      "8   May-20                    6608\n",
      "9   Nov-20                  114815\n",
      "10  Oct-20                   12095\n",
      "11  Sep-20                   13585\n",
      "******* 계절별 전체 ********\n",
      "봄:  25274 여름:  38980 가을:  140495 겨울:  66966\n",
      "******* 계절별 2개이상 구매 시  ********\n",
      "봄:  1579 여름:  9240 가을:  2647 겨울:  4262\n",
      "******** 비중 ***************\n",
      "봄:  6.25 여름:  23.7 가을:  1.88 겨울:  6.36\n"
     ]
    }
   ],
   "source": [
    "# 계절별 전체 \n",
    "DF_SEASON=df.groupby('Month', as_index=False).sum()\n",
    "DF_spring=season_filter(DF_SEASON,'Mar','Apr','May')['Order (purchase event)'].sum()\n",
    "DF_summer=season_filter(DF_SEASON,'Jun','Jul','Aug')['Order (purchase event)'].sum()\n",
    "DF_autumn=season_filter(DF_SEASON,'Sep','Oct','Nov')['Order (purchase event)'].sum()\n",
    "DF_winter=season_filter(DF_SEASON,'Dec','Jan','Feb')['Order (purchase event)'].sum()\n",
    "print(DF_SEASON)\n",
    "print('******* 계절별 전체 ********')\n",
    "print('봄: ',DF_spring,'여름: ',DF_summer, '가을: ',DF_autumn,'겨울: ',DF_winter)\n",
    "\n",
    "\n",
    "order_2=df[df['Model Code (v41)'].str.contains(',')]\n",
    "order_spring=season_filter(order_2,'Mar','Apr','May')['Order (purchase event)'].sum()\n",
    "order_summer=season_filter(order_2,'Jun','Jul','Aug')['Order (purchase event)'].sum()\n",
    "order_autumn=season_filter(order_2,'Sep','Oct','Nov')['Order (purchase event)'].sum()\n",
    "order_winter=season_filter(order_2,'Dec','Jan','Feb')['Order (purchase event)'].sum()\n",
    "\n",
    "print('******* 계절별 2개이상 구매 시  ********')\n",
    "print('봄: ',order_spring,'여름: ',order_summer, '가을: ',order_autumn,'겨울: ',order_winter)\n",
    "\n",
    "print('******** 비중 ***************')\n",
    "print('봄: ',round((order_spring/DF_spring)*100,2),'여름: ',round((order_summer/DF_summer)*100,2), '가을: ',round((order_autumn/DF_autumn)*100,2),'겨울: ',round((order_winter/DF_winter)*100,2))"
   ]
  },
  {
   "cell_type": "markdown",
   "metadata": {},
   "source": [
    "### 쓸모 있는 데이터만 : ,들어간거 + order 0 아닌것들(,있는데 왜 0...)"
   ]
  },
  {
   "cell_type": "code",
   "execution_count": 47,
   "metadata": {},
   "outputs": [
    {
     "name": "stdout",
     "output_type": "stream",
     "text": [
      "0 제외:  15535\n",
      "콤마 들어간거 : 4850\n"
     ]
    }
   ],
   "source": [
    "df=df[df['Order (purchase event)']!= 0]\n",
    "print('0 제외: ',df.shape[0])\n",
    "df=df[df['Model Code (v41)'].str.contains(',')]\n",
    "print('콤마 들어간거 :',df.shape[0])\n",
    "#df=df.reset_index(drop=True)"
   ]
  },
  {
   "cell_type": "code",
   "execution_count": 48,
   "metadata": {},
   "outputs": [],
   "source": [
    "spring=season_filter(df,'Mar','Apr','May')\n",
    "summer=season_filter(df,'Jun','Jul','Aug')\n",
    "autumn=season_filter(df,'Sep','Oct','Nov')\n",
    "winter=season_filter(df,'Dec','Jan','Feb')"
   ]
  },
  {
   "cell_type": "markdown",
   "metadata": {},
   "source": [
    "### 2. 카테고리 파일 로드"
   ]
  },
  {
   "cell_type": "code",
   "execution_count": 10,
   "metadata": {},
   "outputs": [
    {
     "name": "stdout",
     "output_type": "stream",
     "text": [
      "<class 'pandas.core.frame.DataFrame'>\n",
      "RangeIndex: 37 entries, 0 to 36\n",
      "Data columns (total 2 columns):\n",
      " #   Column            Non-Null Count  Dtype \n",
      "---  ------            --------------  ----- \n",
      " 0   Category2D        37 non-null     object\n",
      " 1   Category2D_Value  37 non-null     object\n",
      "dtypes: object(2)\n",
      "memory usage: 720.0+ bytes\n"
     ]
    }
   ],
   "source": [
    "#카테고리 가져오기\n",
    "rex= pd.read_clipboard(sep='\\t')\n",
    "rex.info()"
   ]
  },
  {
   "cell_type": "code",
   "execution_count": 12,
   "metadata": {},
   "outputs": [],
   "source": [
    "for season_index, season in enumerate([spring, summer, autumn, winter]):\n",
    "\n",
    "    season=season.reset_index(drop=True)\n",
    "    \n",
    "    #전체 SKU 하나의 리스트로\n",
    "    a = season['Model Code (v41)'].tolist()\n",
    "    b = ','.join(a) #리스트 문자열로\n",
    "    c = b.split(',') #문자열 개별 문자로 리스트화 \n",
    "    model = list(set(c)) #중복 제거\n",
    "\n",
    "    #전체 SKU 담을 딕셔너리\n",
    "    dic_category = {}\n",
    "\n",
    "    for m in model :\n",
    "        flag = 1\n",
    "        for i in range(len(rex)):\n",
    "            r = re.compile(rex.Category2D_Value[i])\n",
    "            if r.search(m):\n",
    "                dic_category[m] = rex.Category2D[i]\n",
    "                flag = 0\n",
    "                continue\n",
    "        if flag :\n",
    "            dic_category[m] = '기타'\n",
    "\n",
    "    #데이터셋 만들기\n",
    "    dataset = []    # 데이터셋 구조 [ [a,b], [a,c], [a,b,c] .... ]\n",
    "\n",
    "    for i in range(len(season)) :\n",
    "        sku = season['Model Code (v41)'][i]\n",
    "        revised = sku.split(\",\")\n",
    "        code = []\n",
    "        for j in range(len(revised)) :\n",
    "            code.append(dic_category[revised[j]])   #각 SKU 리스트에 담기\n",
    "        \n",
    "        for k in range(season['Order (purchase event)'][i]) :   #order 수만큼 담기\n",
    "            dataset.append(code) \n",
    "    a = pd.DataFrame(dataset)\n",
    "\n",
    "\n",
    "    #장바구니 분석\n",
    "    te = TransactionEncoder()\n",
    "    te_ary = te.fit(dataset).transform(dataset) #True / False\n",
    "    season2 = pd.DataFrame(te_ary, columns=te.columns_)\n",
    "    itemsets_data = apriori(season2, min_support=0.00001, use_colnames=True).sort_values('support', ascending=False).reset_index(drop=True)\n",
    "    rules = association_rules(itemsets_data, metric='lift', min_threshold=1).sort_values('lift',ascending=False).reset_index(drop=True)\n",
    "    rules['count']=(rules['support']*season['Order (purchase event)'].sum()).astype(int)\n",
    "\n",
    "    x = dt.datetime.now()\n",
    "\n",
    "    num_conq=1\n",
    "    #N=4\n",
    "\n",
    "\n",
    "    for num_ant in [1,2,3]:\n",
    "        df = rules[rules.apply(lambda x:True if len(x.antecedents) == int(num_ant) else False, axis=1) & rules.apply(lambda x:True if len(x.consequents) == int(num_conq) else False, axis=1)]\n",
    "        df = df.sort_values('confidence', ascending=False)\n",
    "        #df = df.round(N)\n",
    "        df[['antecedents','consequents']] =df[['antecedents','consequents']].applymap(lambda x: frozen_convert(x))\n",
    "        df['antecedents']=df['antecedents'].astype(str).apply(lambda x: x.replace('[[','['))\n",
    "        df['antecedents']=df['antecedents'].apply(lambda x: x.replace(']]',']'))\n",
    "        df['consequents']=df['consequents'].astype(str).apply(lambda x: x.replace('[[','['))\n",
    "        df['consequents']=df['consequents'].apply(lambda x: x.replace(']]',']'))\n",
    "        df.to_excel(f'{path}/{file_name}/{year}_한총 {season_name.get(season_index)} 분석결과파일_{num_ant}.xlsx')\n",
    "\n",
    "\n",
    "    "
   ]
  },
  {
   "cell_type": "code",
   "execution_count": null,
   "metadata": {},
   "outputs": [],
   "source": []
  }
 ],
 "metadata": {
  "kernelspec": {
   "display_name": "Python 3.9.12 ('base')",
   "language": "python",
   "name": "python3"
  },
  "language_info": {
   "codemirror_mode": {
    "name": "ipython",
    "version": 3
   },
   "file_extension": ".py",
   "mimetype": "text/x-python",
   "name": "python",
   "nbconvert_exporter": "python",
   "pygments_lexer": "ipython3",
   "version": "3.9.12"
  },
  "orig_nbformat": 4,
  "vscode": {
   "interpreter": {
    "hash": "049f16620429c497b48a863c457ff8324c5c16782b57204709252ab8a6fed088"
   }
  }
 },
 "nbformat": 4,
 "nbformat_minor": 2
}
